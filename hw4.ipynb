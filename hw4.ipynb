{
 "cells": [
  {
   "cell_type": "markdown",
   "metadata": {},
   "source": [
    "## Homework 4\n",
    "### Solution for TB Exercise 25.3\n",
    "\n",
    "For all the cases, let the initial $3 \\times 3$ general matrix be $A$.\n",
    "\n",
    "### (a)\n",
    "$$B_1 = \\begin{bmatrix}\n",
    "x & x & 0\\\\\n",
    "0 & x & x\\\\\n",
    "0 & 0 & x\\\\\n",
    "\\end{bmatrix}$$\n",
    "\n",
    "**(ii) holds:** It is not enough to multiply A with Householder reflectors or Givens rotations only from the left, because\n",
    "* a Householder reflector cannot introduce a $0$ to $(1,3)$ position of the matrix,\n",
    "* a Givens rotation changes two rows of the matrix it is left-multiplied. Thus, if the Givens rotations are only left-multiplied, when we try to introduce the last zero we will lose the other zero and thus never obtain $B_1$.\n",
    "\n",
    "The solution with left- and right-multiplications is as follows:\n",
    "$$B = Q_3Q_2AQ_1^*$$\n",
    "where\n",
    "* $Q_2$ is a Householder reflector constructed using the $1^{st}$ column of A\n",
    "  * Let the first column of $A$ be $x$. Then, $Q_2 = I - 2vv^*$ where $v = \\|x\\|e_1 - x$\n",
    "  * $Q_2$ introduces $0$s to the first column of $A$.\n",
    "* $Q_1$ is a Givens rotation constructed using $(Q_2A)_{1,2}$ and $(Q_2A)_{1,3}$\n",
    "  * Let $a = (Q_2A)_{1,2}$, $b = (Q_2A)_{1,3}$ and $r = \\sqrt{a^2 + b^2}$. Then,\n",
    "  $Q_1 = \\begin{bmatrix}\n",
    "  1 & 0 & 0\\\\\n",
    "  0 & c & -s\\\\\n",
    "  0 & s & c\\\\\n",
    "  \\end{bmatrix}$ where $c = \\frac{a}{r}$ and $s = \\frac{-b}{r}$.\n",
    "  * Right-multiplication with $Q_1^*$ realizes $(Q_2A)_{1,3} \\leftarrow 0$.\n",
    "* $Q_3$ is a Givens rotation constructed using $(Q_2AQ_1^*)_{2,2}$ and $(Q_2AQ_1^*)_{3,2}$\n",
    "  * For the adjusted definitions of $a$ and $b$,\n",
    "  $Q_3 = \\begin{bmatrix}\n",
    "  1 & 0 & 0\\\\\n",
    "  0 & c & -s\\\\\n",
    "  0 & s & c\\\\\n",
    "  \\end{bmatrix}$\n",
    "  * Left-multiplication with $Q_3$ realizes $(Q_2AQ_1^*)_{3,2} \\leftarrow 0$."
   ]
  },
  {
   "cell_type": "code",
   "execution_count": 22,
   "metadata": {},
   "outputs": [
    {
     "name": "stdout",
     "output_type": "stream",
     "text": [
      "A =\n",
      "\n",
      "   0.759596   0.456778   0.058825\n",
      "   0.777767   0.838767   0.897569\n",
      "   0.674204   0.430979   0.196929\n",
      "\n"
     ]
    }
   ],
   "source": [
    "A = rand(3)"
   ]
  },
  {
   "cell_type": "code",
   "execution_count": 23,
   "metadata": {},
   "outputs": [
    {
     "name": "stdout",
     "output_type": "stream",
     "text": [
      "B1 =\n",
      "\n",
      "  -1.27924  -1.21868   0.00000\n",
      "   0.00000   0.58085   0.34947\n",
      "   0.00000   0.00000   0.03302\n",
      "\n"
     ]
    }
   ],
   "source": [
    "x = A(1:3,1);\n",
    "% householder\n",
    "v = x;\n",
    "v(1) = v(1) + sign(x(1))*norm(x);\n",
    "v = v/norm(v);\n",
    "B1 = A - 2*v*(v'*A);\n",
    "% 1st givens\n",
    "G = givens(B1(1,2), B1(1,3));\n",
    "C = eye(3);\n",
    "C(2:3, 2:3) = G;\n",
    "B1 = B1*C';\n",
    "% 2nd givens\n",
    "G = givens(B1(2,2), B1(3,2));\n",
    "C(2:3, 2:3) = G;\n",
    "B1 = C*B1;\n",
    "B1(abs(B1) < 1e-15) = 0"
   ]
  },
  {
   "cell_type": "markdown",
   "metadata": {},
   "source": [
    "### (b)\n",
    "$$B_2 = \\begin{bmatrix}\n",
    "x & x & 0\\\\\n",
    "x & 0 & x\\\\\n",
    "0 & x & x\\\\\n",
    "\\end{bmatrix}$$\n",
    "\n",
    "**(ii) holds:** We again cannot obtain $B_2$ by only applying left-multiplications due to the same problem: When trying to introduce the final zero, we will lose the other one and thus never obtain $B_2$.\n",
    "\n",
    "Obtaining $B_2$ is straightforward:\n",
    "1. Obtain $B_1$.\n",
    "2. Swap the $1^{st}$ and $2^{nd}$ columns of $B_1$ to obtain $B_2$."
   ]
  },
  {
   "cell_type": "code",
   "execution_count": 24,
   "metadata": {},
   "outputs": [
    {
     "name": "stdout",
     "output_type": "stream",
     "text": [
      "B2 =\n",
      "\n",
      "  -1.21868  -1.27924   0.00000\n",
      "   0.58085   0.00000   0.34947\n",
      "   0.00000   0.00000   0.03302\n",
      "\n"
     ]
    }
   ],
   "source": [
    "E = [0 1 0; 1 0 0; 0 0 1];\n",
    "B2 = B1*E"
   ]
  },
  {
   "cell_type": "markdown",
   "metadata": {},
   "source": [
    "### (c)\n",
    "$$B_3 = \\begin{bmatrix}\n",
    "x & x & 0\\\\\n",
    "0 & 0 & x\\\\\n",
    "0 & 0 & x\\\\\n",
    "\\end{bmatrix}$$\n",
    "\n",
    "**(iii) holds:** Matrix $B_3$ is special: It is $\\textit{singular}$. If we don't make any assumptions about the invertibility of the matrix $A$, then obtaining a singular matrix from a non/singular matrix is not possible via only left- and right-multiplications with unitary matrices:\n",
    "\n",
    "We want a procedure to obtain $B$ from a general matrix $A$. Then, our procedure should also work for invertible $A$. For the sake of contradiction assume $A$ is invertible. Then, $det(A) \\neq 0$.\n",
    "\n",
    "$$\\begin{align}\n",
    "B &= Q_1Q_2\\dots Q_jAQ_{j+1}Q_{j+2}\\dots Q_{j+k} \\quad \\text{for some} \\quad j, k \\geq 0 \\\\\n",
    "det(B) &= det(Q_1)det(Q_2)\\dots det(Q_j)det(A)det(Q_{j+1})det(Q_{j+2})\\dots det(Q_{j+k}) \\\\\n",
    "det(B) &= \\pm det(A) \\\\\n",
    "det(B) &\\neq 0\n",
    "\\end{align}$$\n",
    "\n",
    "However $B$ is $\\textit{singular}$ and $det(B) = 0$. This is a contradiction. Thus, $B$ cannot be obtained by repeatedly left- or right-multiplying $A$ with unitary matrices. "
   ]
  }
 ],
 "metadata": {
  "kernelspec": {
   "display_name": "Octave",
   "language": "octave",
   "name": "octave"
  },
  "language_info": {
   "file_extension": ".m",
   "help_links": [
    {
     "text": "GNU Octave",
     "url": "https://www.gnu.org/software/octave/support.html"
    },
    {
     "text": "Octave Kernel",
     "url": "https://github.com/Calysto/octave_kernel"
    },
    {
     "text": "MetaKernel Magics",
     "url": "https://github.com/calysto/metakernel/blob/master/metakernel/magics/README.md"
    }
   ],
   "mimetype": "text/x-octave",
   "name": "octave",
   "version": "4.2.1"
  }
 },
 "nbformat": 4,
 "nbformat_minor": 2
}
